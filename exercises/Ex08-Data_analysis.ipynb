{
 "cells": [
  {
   "cell_type": "code",
   "execution_count": null,
   "metadata": {},
   "outputs": [],
   "source": [
    "!pip install seaborn --upgrade"
   ]
  },
  {
   "cell_type": "code",
   "execution_count": null,
   "metadata": {
    "ExecuteTime": {
     "end_time": "2018-08-01T19:13:42.217834Z",
     "start_time": "2018-08-01T15:13:40.798745-04:00"
    }
   },
   "outputs": [],
   "source": [
    "%matplotlib inline\n",
    "\n",
    "import numpy as np\n",
    "import matplotlib.pyplot as plt\n",
    "import pandas as pd\n",
    "import seaborn as sns\n",
    "\n",
    "from scipy import misc, signal\n",
    "import sklearn.datasets as dat\n",
    "\n",
    "plt.rcParams['figure.figsize'] = (15.0, 3.0)"
   ]
  },
  {
   "cell_type": "code",
   "execution_count": null,
   "metadata": {
    "ExecuteTime": {
     "end_time": "2018-08-01T19:13:42.224021Z",
     "start_time": "2018-08-01T15:13:42.219782-04:00"
    }
   },
   "outputs": [],
   "source": [
    "X, y = dat.make_moons(n_samples=100, shuffle=True, noise=None, random_state=None)\n"
   ]
  },
  {
   "cell_type": "code",
   "execution_count": null,
   "metadata": {
    "ExecuteTime": {
     "end_time": "2018-08-01T19:13:42.447948Z",
     "start_time": "2018-08-01T15:13:42.227215-04:00"
    }
   },
   "outputs": [],
   "source": [
    "plt.plot(X)"
   ]
  },
  {
   "cell_type": "code",
   "execution_count": null,
   "metadata": {
    "ExecuteTime": {
     "end_time": "2018-08-01T19:14:28.434513Z",
     "start_time": "2018-08-01T15:14:27.675283-04:00"
    }
   },
   "outputs": [],
   "source": [
    "g = sns.jointplot(X[:,0], X[:,1], kind=\"kde\", height=7, space=0)"
   ]
  },
  {
   "cell_type": "code",
   "execution_count": null,
   "metadata": {
    "ExecuteTime": {
     "end_time": "2018-08-01T19:13:42.575301Z",
     "start_time": "2018-08-01T15:13:42.450541-04:00"
    },
    "scrolled": true
   },
   "outputs": [],
   "source": [
    "diamonds = sns.load_dataset(\"diamonds\")\n",
    "diamonds"
   ]
  },
  {
   "cell_type": "code",
   "execution_count": null,
   "metadata": {
    "ExecuteTime": {
     "end_time": "2018-08-01T19:15:13.177602Z",
     "start_time": "2018-08-01T15:15:11.801381-04:00"
    }
   },
   "outputs": [],
   "source": [
    "sns.set(style=\"whitegrid\")\n",
    "\n",
    "# Load the example iris dataset\n",
    "# diamonds = sns.load_dataset(\"diamonds\")\n",
    "\n",
    "# Draw a scatter plot while assigning point colors and sizes to different\n",
    "# variables in the dataset\n",
    "f, ax = plt.subplots(figsize=(10, 10))\n",
    "sns.despine(f, left=True, bottom=True)\n",
    "clarity_ranking = [\"I1\", \"SI2\", \"SI1\", \"VS2\", \"VS1\", \"VVS2\", \"VVS1\", \"IF\"]\n",
    "sns.scatterplot(x=\"carat\", y=\"price\",\n",
    "                hue=\"clarity\", size=\"depth\",\n",
    "                palette=\"ch:r=-.2,d=.3_r\",\n",
    "                hue_order=clarity_ranking,\n",
    "                sizes=(1, 8), linewidth=0,\n",
    "                data=diamonds, ax=ax)"
   ]
  },
  {
   "cell_type": "code",
   "execution_count": null,
   "metadata": {
    "ExecuteTime": {
     "end_time": "2018-08-01T19:13:48.815696Z",
     "start_time": "2018-08-01T15:13:46.647478-04:00"
    }
   },
   "outputs": [],
   "source": [
    "g = sns.pairplot(diamonds,vars=['depth', 'table', 'price'])"
   ]
  },
  {
   "cell_type": "code",
   "execution_count": null,
   "metadata": {
    "ExecuteTime": {
     "end_time": "2018-08-01T19:13:48.815696Z",
     "start_time": "2018-08-01T15:13:46.647478-04:00"
    }
   },
   "outputs": [],
   "source": [
    "# g = sns.pairplot(diamonds,vars=['depth', 'table', 'price'], hue='clarity', =.01)\n",
    "\n",
    "g = sns.PairGrid(diamonds.sample(100),vars=['depth', 'table', 'price'], diag_sharey=False)\n",
    "g.map_lower(sns.kdeplot)\n",
    "g.map_upper(sns.scatterplot)\n",
    "g.map_diag(sns.kdeplot, lw=3)"
   ]
  },
  {
   "cell_type": "code",
   "execution_count": null,
   "metadata": {
    "ExecuteTime": {
     "end_time": "2018-08-01T19:18:26.211469Z",
     "start_time": "2018-08-01T15:18:26.020928-04:00"
    }
   },
   "outputs": [],
   "source": [
    "mc_trials = 10000\n",
    "\n",
    "gym = np.random.choice([30, 30, 35, 35, 35, 35, \n",
    "                    35, 35, 40, 40, 40, 45, 45], mc_trials)\n",
    "brush_my_teeth = np.random.choice([2], mc_trials)\n",
    "argument = np.random.choice([0, 45], size=mc_trials, p=[0.9, 0.1])\n",
    "dinner = np.random.normal(15, 5/3, size=mc_trials)\n",
    "work = np.random.normal(45, 15/3, size=mc_trials)\n",
    "shower = np.random.triangular(left=5, mode=9, right=10, size=mc_trials)\n",
    "\n",
    "col_per_trial = np.vstack([gym, brush_my_teeth, argument,\n",
    "           dinner, work, shower])\n",
    "\n",
    "mc_function_trials = np.sum(col_per_trial,axis=0)\n",
    "\n",
    "plt.figure()\n",
    "plt.hist(mc_function_trials,30)\n",
    "plt.xlim([0,200])\n",
    "plt.show()"
   ]
  },
  {
   "cell_type": "code",
   "execution_count": null,
   "metadata": {
    "ExecuteTime": {
     "end_time": "2018-08-01T19:18:26.789902Z",
     "start_time": "2018-08-01T15:18:26.578848-04:00"
    }
   },
   "outputs": [],
   "source": [
    "from sklearn.neighbors import KernelDensity\n",
    "mc_function_trials = np.array(mc_function_trials)\n",
    "kde = (KernelDensity(kernel='gaussian', bandwidth=2)\n",
    "       .fit(mc_function_trials[:, np.newaxis]))\n",
    "\n",
    "density_function = lambda x: np.exp(kde.score_samples(x))\n",
    "\n",
    "time_values = np.arange(200)[:, np.newaxis]\n",
    "plt.plot(time_values, density_function(time_values))"
   ]
  },
  {
   "cell_type": "code",
   "execution_count": null,
   "metadata": {
    "ExecuteTime": {
     "end_time": "2018-08-01T19:18:39.284846Z",
     "start_time": "2018-08-01T15:18:39.219633-04:00"
    }
   },
   "outputs": [],
   "source": [
    "import scipy.integrate as integrate\n",
    "probability, accuracy = integrate.quad(density_function, 0, 100)\n",
    "print(probability)"
   ]
  },
  {
   "cell_type": "code",
   "execution_count": null,
   "metadata": {},
   "outputs": [],
   "source": []
  }
 ],
 "metadata": {
  "kernelspec": {
   "display_name": "Python 3",
   "language": "python",
   "name": "python3"
  },
  "language_info": {
   "codemirror_mode": {
    "name": "ipython",
    "version": 3
   },
   "file_extension": ".py",
   "mimetype": "text/x-python",
   "name": "python",
   "nbconvert_exporter": "python",
   "pygments_lexer": "ipython3",
   "version": "3.6.6"
  }
 },
 "nbformat": 4,
 "nbformat_minor": 2
}
