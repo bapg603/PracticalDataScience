{
 "cells": [
  {
   "cell_type": "markdown",
   "metadata": {},
   "source": [
    "## Anidata\n",
    "Over the past year or so I have been working with some friends to create a 501(c)3 non-profit organization called <a href=\"http://anidata.org\">Anidata</a>.  Anidata has a two-prong mission: 1) we provide mentorship opportunities where aspiring data scientists can get hands-on experience with real-world data problems in order to improve their skills and 2) we provide data science services to social good organizations that might not otherwise have access to data science capabilities.\n",
    "\n",
    "{:style=\"text-align:center\" }\n",
    "![image](../images/anidata.png){:width=\"180px\"}\n",
    "\n",
    "## Stop Human Trafficking\n",
    "In our first project as an organization, we supported the Fulton County's District Attorney's office to help find, fight, investigate, and prosecute human trafficking crimes.  In consultation with the DA's office, we learned that many of the investigative steps require manually search adult services websites to build a case.  \n",
    "\n",
    "## Hackathon\n",
    "After gathering this initial information, we held a hackathon with Anidata members and law enforcement/DA staff to converge on a concept for a data product that would help them fight human trafficking.  \n",
    "\n",
    "\n",
    "{:style=\"text-align:center\" }\n",
    "![image](../images/hackathon.png){:width=\"330px\"}{:vertical-align=\"middle\"} \n",
    "![image](../images/hackathon2.png){:width=\"230px\"}{:vertical-align=\"middle\"} \n",
    "\n",
    "The hackathon was a big success with over 30 attendees.  Teams presented various project ideas that were in varying states of code completion.  The common theme for a useful product that emerged was a searchable database of internet entities that post on adult ad websites.    \n",
    "\n",
    "The basic ides would be to allow investigators to take one piece of evidence they might have on an individual under investigation--such as a phone number--and search on that information in a database for all related phone numbers and email addresses.  This helps the DA more efficiently link burner phones to people and posts so that they can build a case.\n",
    "\n",
    "At the end of the hackathon we had many elements of what would eventually be this search product in place including: 1) a webscraper, 2) a luigi job framework for running daily jobs and dumping the output to a postgresql database, 3) cleaning algorithms to find and clean emails and phone numbers, and 4) an entity resolution algorithm to group postings by entity.\n",
    "\n",
    "## Entity Resolution (ER)\n",
    "The core algorithmic challenge in this project was to create an ER algorithm that would group posts by posting entity and allow us to extract a set of emails and phone numbers from those posts to associate with that entity. Let's start by taking a look at the data.\n",
    "\n",
    "\n",
    "## Data\n",
    "I've flatten several months of the database data and pruned it down to just the columns we care about.  In the following dataframe each row is a ad posting and the metadata we were able to scrape from that posting. Sample data includes three flat files that pair a `post_id` with an email, user ID, or email address.  We have the following columns:\n",
    "- name\n",
    "- phone number\n",
    "- oid (poster unique ID)\n",
    "- posterage\n",
    "- region\n",
    "- type\n",
    "\n",
    "\n"
   ]
  },
  {
   "cell_type": "markdown",
   "metadata": {
    "extensions": {
     "jupyter_dashboards": {
      "version": 1,
      "views": {
       "grid_default": {},
       "report_default": {
        "hidden": false
       }
      }
     }
    },
    "slideshow": {
     "slide_type": "subslide"
    }
   },
   "source": [
    "### Data \n",
    "I have the data for this post stored in <a href=\"https://github.com/gte620v/graph_entity_resolution/raw/master/data/scraped_data.csv.gz\">GitHub</a>.  Let's take a look at the head of the dataframe:"
   ]
  },
  {
   "cell_type": "code",
   "execution_count": null,
   "metadata": {
    "ExecuteTime": {
     "end_time": "2017-03-10T10:42:38.090702",
     "start_time": "2017-03-10T10:42:11.110857"
    },
    "collapsed": false,
    "extensions": {
     "jupyter_dashboards": {
      "version": 1,
      "views": {
       "grid_default": {},
       "report_default": {
        "hidden": false
       }
      }
     }
    },
    "nbpresent": {
     "id": "1e3d5ce2-782f-45ad-a015-07711bdf5ccc"
    },
    "slideshow": {
     "slide_type": "fragment"
    }
   },
   "outputs": [],
   "source": [
    "import pandas as pd\n",
    "df = pd.read_csv(\n",
    "    'https://github.com/gte620v/graph_entity_resolution/raw/master/data/scraped_data.csv.gz',\n",
    "    converters={'name': lambda x: str(x).lower(),\n",
    "                'number': str,\n",
    "                'oid': str,\n",
    "                'post_id': str},\n",
    "    parse_dates=['postdate'],\n",
    "    compression='gzip')\n",
    "df.head()"
   ]
  },
  {
   "cell_type": "markdown",
   "metadata": {
    "extensions": {
     "jupyter_dashboards": {
      "version": 1,
      "views": {
       "grid_default": {},
       "report_default": {
        "hidden": false
       }
      }
     }
    },
    "slideshow": {
     "slide_type": "subslide"
    }
   },
   "source": [
    "## Data Description\n",
    "To get a better sense of the data, we can use `DataFrame.describe` to find the statistics.\n",
    "\n",
    "### Ordinal Columns"
   ]
  },
  {
   "cell_type": "code",
   "execution_count": null,
   "metadata": {
    "ExecuteTime": {
     "end_time": "2017-03-10T10:42:39.027971",
     "start_time": "2017-03-10T10:42:38.093629"
    },
    "collapsed": false,
    "extensions": {
     "jupyter_dashboards": {
      "version": 1,
      "views": {
       "grid_default": {},
       "report_default": {
        "hidden": false
       }
      }
     }
    },
    "slideshow": {
     "slide_type": "fragment"
    }
   },
   "outputs": [],
   "source": [
    "df[['post_id','name','number','oid','region']].describe(include = 'all')"
   ]
  },
  {
   "cell_type": "markdown",
   "metadata": {},
   "source": [
    "### Age"
   ]
  },
  {
   "cell_type": "code",
   "execution_count": null,
   "metadata": {
    "ExecuteTime": {
     "end_time": "2017-03-10T10:45:18.334245",
     "start_time": "2017-03-10T10:45:18.289268"
    },
    "collapsed": false
   },
   "outputs": [],
   "source": [
    "df[['posterage']].dropna().describe()"
   ]
  },
  {
   "cell_type": "markdown",
   "metadata": {},
   "source": [
    "### Age Swamplot\n",
    "<a href=\"https://stanford.edu/~mwaskom/software/seaborn/index.html\">Seaborn</a> has some cool canned functions for examining data distributions by category.  I am particuraly fond `sns.swarmplot` that makes plots like the one below.  The plot  is a sampling of the distribution of first 1000 rows by region and poster age.  Strangely, there are a few posters with ages around 100 years old."
   ]
  },
  {
   "cell_type": "code",
   "execution_count": null,
   "metadata": {
    "ExecuteTime": {
     "end_time": "2017-03-10T12:24:43.760650",
     "start_time": "2017-03-10T12:24:41.360461"
    },
    "collapsed": false
   },
   "outputs": [],
   "source": [
    "import seaborn as sns\n",
    "%matplotlib inline\n",
    "from pylab import rcParams\n",
    "rcParams['figure.figsize'] = (7.0, 7.0)\n",
    "\n",
    "sns.swarmplot(y='region',x='posterage',data=df.head(1000),size=2)"
   ]
  },
  {
   "cell_type": "markdown",
   "metadata": {},
   "source": [
    "### Post Date"
   ]
  },
  {
   "cell_type": "code",
   "execution_count": null,
   "metadata": {
    "ExecuteTime": {
     "end_time": "2017-03-10T10:42:39.239338",
     "start_time": "2017-03-10T10:42:39.130521"
    },
    "collapsed": false
   },
   "outputs": [],
   "source": [
    "df[['postdate']].describe(include = 'all')"
   ]
  },
  {
   "cell_type": "markdown",
   "metadata": {
    "extensions": {
     "jupyter_dashboards": {
      "version": 1,
      "views": {
       "grid_default": {},
       "report_default": {
        "hidden": false
       }
      }
     }
    },
    "slideshow": {
     "slide_type": "slide"
    }
   },
   "source": [
    "## Entity Resolution\n",
    "\n",
    "After wrestling with the data a bit, we realized that we can conceptualize the data as a graph and then cluster posts into entities by finding the connected subgraphs.  To do this, our graph has the following semantics:\n",
    "\n",
    "\n",
    "- Vertices: Ad posts\n",
    "- Edges: Common attributes (email, phone number, or poster ID)\n",
    "\n",
    "Our approach is to create subgraphs using each type of edge information and then use subgraph clustering to find the entity subgraphs.  \n"
   ]
  },
  {
   "cell_type": "markdown",
   "metadata": {
    "extensions": {
     "jupyter_dashboards": {
      "version": 1,
      "views": {
       "grid_default": {},
       "report_default": {
        "hidden": false
       }
      }
     }
    },
    "slideshow": {
     "slide_type": "subslide"
    }
   },
   "source": [
    "### Explore Subgraph Sizes\n",
    "\n",
    "The clustered subgraphs will be entities and each entity will have posted some number of ads.  The block below analyzes the count of the most posted phone numbers.  These are phone numbers that the poster put in the ad as contact information.  The output shows that some phone numbers are associated with over a thousand posts."
   ]
  },
  {
   "cell_type": "code",
   "execution_count": null,
   "metadata": {
    "ExecuteTime": {
     "end_time": "2017-03-10T10:42:39.500514",
     "start_time": "2017-03-10T10:42:39.244431"
    },
    "collapsed": false,
    "extensions": {
     "jupyter_dashboards": {
      "version": 1,
      "views": {
       "grid_default": {},
       "report_default": {
        "hidden": false
       }
      }
     }
    },
    "slideshow": {
     "slide_type": "fragment"
    }
   },
   "outputs": [],
   "source": [
    "df\\\n",
    ".groupby('number')\\\n",
    ".count()\\\n",
    ".sort_values('post_id',ascending=False)[['post_id']]\\\n",
    ".head()"
   ]
  },
  {
   "cell_type": "markdown",
   "metadata": {
    "extensions": {
     "jupyter_dashboards": {
      "version": 1,
      "views": {
       "grid_default": {},
       "report_default": {
        "hidden": false
       }
      }
     }
    },
    "slideshow": {
     "slide_type": "subslide"
    }
   },
   "source": [
    "### Example Sub-Graph\n",
    "\n",
    "One challenge is to efficiently create the sub graphs. Our first approach was to make fully connected graph out of the data subsets.  But this has the short coming of creating a bunch of graph edges that we will later show are not necessary.  With a fully connected graph of \\\\\\(N\\\\\\) nodes, we will have \\\\\\(N \\cdot (N-1)\\\\\\) connections, which is a lot of graph data to store and reason about.\n",
    "\n",
    "Here is an example of a phone number that is seen on 11 posts:"
   ]
  },
  {
   "cell_type": "code",
   "execution_count": null,
   "metadata": {
    "ExecuteTime": {
     "end_time": "2017-03-10T10:42:39.600327",
     "start_time": "2017-03-10T10:42:39.507055"
    },
    "collapsed": false,
    "extensions": {
     "jupyter_dashboards": {
      "version": 1,
      "views": {
       "grid_default": {},
       "report_default": {
        "hidden": false
       }
      }
     }
    },
    "slideshow": {
     "slide_type": "fragment"
    }
   },
   "outputs": [],
   "source": [
    "\n",
    "ph_sample = df[df.number=='7865032020']\n",
    "ph_sample.sort_values('name',ascending=False).head()"
   ]
  },
  {
   "cell_type": "markdown",
   "metadata": {
    "extensions": {
     "jupyter_dashboards": {
      "version": 1,
      "views": {
       "grid_default": {},
       "report_default": {
        "hidden": false
       }
      }
     }
    },
    "slideshow": {
     "slide_type": "subslide"
    }
   },
   "source": [
    "### Fully Connected Subgraph\n",
    "\n",
    "To create the subgraph we iterate through all pair-wise combinations of posts (a cross join) and populate the networkx graph.  You'll notice in the function below that we also add an attribute to each edge called `d3color`.  \n",
    "\n",
    "I made a plotting library called <a href=\"https://github.com/gte620v/pyd3netviz\">pyd3netviz</a> to use d3 to visualize network graphs in python (see <a href=\"{% post_url 2017-01-29-Python_D3_Network_Viz %}\">my previous post</a> about it). pyd3netviz can take networkx node an edge attributes as directives for styling the plots.  In this example, out function takes in a rgb tuple called `color` and uses that to specify the edge color."
   ]
  },
  {
   "cell_type": "code",
   "execution_count": null,
   "metadata": {
    "ExecuteTime": {
     "end_time": "2017-03-10T10:42:39.661497",
     "start_time": "2017-03-10T10:42:39.603922"
    },
    "collapsed": false,
    "slideshow": {
     "slide_type": "fragment"
    }
   },
   "outputs": [],
   "source": [
    "from pyd3netviz import ForceChart\n",
    "import itertools\n",
    "\n",
    "import networkx as nx\n",
    "\n",
    "def make_graph_data(in_data, data_type, color, G=None):\n",
    "    ''' Make and plot graph \n",
    "    \n",
    "    do_plot can be 'networkx' or 'pyd3'\n",
    "    '''\n",
    "    if G is None:\n",
    "        G = nx.Graph()\n",
    "    out = []\n",
    "    for a, b in itertools.product(in_data, in_data):\n",
    "        out.append((a, b, {'type': data_type, 'color': color, \n",
    "                           'd3color': '#%02x%02x%02x' % tuple(c*255 for c in color)}))\n",
    "    G.add_edges_from(out)\n",
    "    return G\n",
    "    "
   ]
  },
  {
   "cell_type": "markdown",
   "metadata": {},
   "source": [
    "\n",
    "#### Phone Numbers Only\n",
    "The example below shows the fully connected subgraph for one phone number (the graph is interactive).  Out high-level ER objective is solved as long as these nodes are connected as a group.  In this case is looks like have the graph fully connected is overkill."
   ]
  },
  {
   "cell_type": "code",
   "execution_count": null,
   "metadata": {
    "ExecuteTime": {
     "end_time": "2017-03-10T10:42:39.730011",
     "start_time": "2017-03-10T10:42:39.663884"
    },
    "collapsed": false,
    "extensions": {
     "jupyter_dashboards": {
      "version": 1,
      "views": {
       "grid_default": {},
       "report_default": {
        "hidden": false
       }
      }
     }
    },
    "slideshow": {
     "slide_type": "subslide"
    }
   },
   "outputs": [],
   "source": [
    "G_samp = make_graph_data(ph_sample.post_id, 'phone', [0,0,1])\n",
    "width = 590\n",
    "height = 400\n",
    "plot_kargs={'charge':-10,'link_distance':200,'width':width,'height':height,\n",
    "             'default_node_radius':10,'default_link_width':1,\n",
    "             'link_color_field':'d3color'};\n",
    "fc =ForceChart(G_samp,**plot_kargs)\n",
    "fc.to_notebook()\n"
   ]
  },
  {
   "cell_type": "markdown",
   "metadata": {
    "extensions": {
     "jupyter_dashboards": {
      "version": 1,
      "views": {
       "grid_default": {},
       "report_default": {
        "hidden": false
       }
      }
     }
    },
    "slideshow": {
     "slide_type": "subslide"
    }
   },
   "source": [
    "#### Email Addresses Only\n",
    "Looking at a set of carefully chosen email addresses, we see the same sort of graph.  I've chosen these email addresses because they share a common post with the phone numbers from the previous example."
   ]
  },
  {
   "cell_type": "code",
   "execution_count": null,
   "metadata": {
    "ExecuteTime": {
     "end_time": "2017-03-10T10:42:40.554976",
     "start_time": "2017-03-10T10:42:39.735994"
    },
    "collapsed": false,
    "extensions": {
     "jupyter_dashboards": {
      "version": 1,
      "views": {
       "grid_default": {},
       "report_default": {
        "hidden": false
       }
      }
     }
    },
    "slideshow": {
     "slide_type": "fragment"
    }
   },
   "outputs": [],
   "source": [
    "em_sample = df[df['name'].str.contains('tuc',False)]\n",
    "em_sample"
   ]
  },
  {
   "cell_type": "markdown",
   "metadata": {},
   "source": [
    "#### Email Address Graph"
   ]
  },
  {
   "cell_type": "code",
   "execution_count": null,
   "metadata": {
    "ExecuteTime": {
     "end_time": "2017-03-10T10:42:40.573954",
     "start_time": "2017-03-10T10:42:40.559805"
    },
    "collapsed": false,
    "extensions": {
     "jupyter_dashboards": {
      "version": 1,
      "views": {
       "grid_default": {},
       "report_default": {
        "hidden": false
       }
      }
     }
    },
    "slideshow": {
     "slide_type": "subslide"
    }
   },
   "outputs": [],
   "source": [
    "G_samp_em = make_graph_data(em_sample.post_id, 'email', [1,0,0])\n",
    "\n",
    "fc =ForceChart(G_samp_em,**plot_kargs)\n",
    "fc.to_notebook()"
   ]
  },
  {
   "cell_type": "markdown",
   "metadata": {
    "extensions": {
     "jupyter_dashboards": {
      "version": 1,
      "views": {
       "grid_default": {},
       "report_default": {
        "hidden": false
       }
      }
     }
    },
    "slideshow": {
     "slide_type": "subslide"
    }
   },
   "source": [
    "#### Combined Graph with Email and Phone Numbers\n",
    "If we combine all the posts from the previous two examples and plot them, we notice that they are part of a common ER subgraph that contains the email address `tucenicienta360@gmail.com` and the phone number `7865032020`.  We'll see in a minute that there are other phone numbers connected to this entity as well.  In the plot below the phone number edges are blue and the email address edges are red.  You may have to drag around some of the vertices in order to see the red edges."
   ]
  },
  {
   "cell_type": "code",
   "execution_count": null,
   "metadata": {
    "ExecuteTime": {
     "end_time": "2017-03-10T10:42:40.670385",
     "start_time": "2017-03-10T10:42:40.578907"
    },
    "collapsed": false,
    "extensions": {
     "jupyter_dashboards": {
      "version": 1,
      "views": {
       "grid_default": {},
       "report_default": {
        "hidden": false
       }
      }
     }
    },
    "slideshow": {
     "slide_type": "fragment"
    }
   },
   "outputs": [],
   "source": [
    "out = []\n",
    "for a, b in itertools.product(em_sample.post_id, em_sample.post_id):\n",
    "    out.append((a, b, {'type': 'email', 'color': 'r', 'd3color': '#f00'}))\n",
    "    \n",
    "G_samp.add_edges_from(out)\n",
    "\n",
    "fc =ForceChart(G_samp,**plot_kargs)\n",
    "fc.to_notebook()"
   ]
  },
  {
   "cell_type": "markdown",
   "metadata": {
    "extensions": {
     "jupyter_dashboards": {
      "version": 1,
      "views": {
       "grid_default": {},
       "report_default": {
        "hidden": false
       }
      }
     }
    },
    "slideshow": {
     "slide_type": "subslide"
    }
   },
   "source": [
    "### Simplifying The Graph\n",
    "\n",
    "The process above works, but having a fully connected set of graphs ends up taking a bunch of memory.  To simplify the graph for our problem, we only need each network of posts to be connected--__not__ fully connected.  To do that, we can create subgraphs that are loosely connected loops instead of densely connected balls of edges.\n",
    "\n",
    "#### Phone Numbers Only"
   ]
  },
  {
   "cell_type": "code",
   "execution_count": null,
   "metadata": {
    "ExecuteTime": {
     "end_time": "2017-03-10T10:42:40.728666",
     "start_time": "2017-03-10T10:42:40.675222"
    },
    "collapsed": false,
    "extensions": {
     "jupyter_dashboards": {
      "version": 1,
      "views": {
       "grid_default": {},
       "report_default": {
        "hidden": false
       }
      }
     }
    },
    "slideshow": {
     "slide_type": "fragment"
    }
   },
   "outputs": [],
   "source": [
    "G_samp_loop = nx.Graph()\n",
    "\n",
    "# No product for loop\n",
    "v = ph_sample.post_id.values.tolist()\n",
    "v_right = v[1:]\n",
    "if len(v) == 1:\n",
    "    v_right = v\n",
    "else:\n",
    "    v_right[-1] = v[0]\n",
    "out = [(a, b,{'type':'phone','color':'b', 'd3color': '#00f'}) for a, b in zip(v, v_right)]\n",
    "\n",
    "G_samp_loop.add_edges_from(out)\n",
    "\n",
    "colors = [G_samp_loop[u][v]['color'] for u,v in G_samp_loop.edges()]\n",
    "\n",
    "plot_kargs['charge'] = -150\n",
    "plot_kargs['link_distance'] = 10\n",
    "\n",
    "fc =ForceChart(G_samp_loop,**plot_kargs)\n",
    "fc.to_notebook()"
   ]
  },
  {
   "cell_type": "markdown",
   "metadata": {},
   "source": [
    "#### Phone Numbers and Email Addresses\n",
    "\n",
    "It is clear that the graph below satisfies our constraint of keeping these nodes connected, while requiring many fewer edges."
   ]
  },
  {
   "cell_type": "code",
   "execution_count": null,
   "metadata": {
    "ExecuteTime": {
     "end_time": "2017-03-10T10:42:40.790239",
     "start_time": "2017-03-10T10:42:40.733044"
    },
    "collapsed": false,
    "extensions": {
     "jupyter_dashboards": {
      "version": 1,
      "views": {
       "grid_default": {},
       "report_default": {
        "hidden": false
       }
      }
     }
    },
    "slideshow": {
     "slide_type": "subslide"
    }
   },
   "outputs": [],
   "source": [
    "v = em_sample.post_id.values.tolist()\n",
    "v_right = v[1:]\n",
    "if len(v) == 1:\n",
    "    v_right = v\n",
    "else:\n",
    "    v_right[-1] = v[0]\n",
    "out += [(a, b,{'type':'phone','color':'r', 'd3color': '#f00'}) for a, b in zip(v, v_right)]\n",
    "\n",
    "G_samp_loop.add_edges_from(out)\n",
    "\n",
    "\n",
    "colors = [G_samp_loop[u][v]['color'] for u,v in G_samp_loop.edges()]\n",
    "\n",
    "fc =ForceChart(G_samp_loop,**plot_kargs)\n",
    "fc.to_notebook()"
   ]
  },
  {
   "cell_type": "markdown",
   "metadata": {
    "extensions": {
     "jupyter_dashboards": {
      "version": 1,
      "views": {
       "grid_default": {},
       "report_default": {
        "hidden": false
       }
      }
     }
    },
    "slideshow": {
     "slide_type": "subslide"
    }
   },
   "source": [
    "\n",
    "## Graph Clusters\n",
    "When viewed this way, a set of connected posts (vertices) and poster attributes (edges) constitute an entity.  With that clear, we simply have to create a graph out of all connections and then find the disjoint subgraphs.  The function below takes one form of edge information and makes a connectivity list."
   ]
  },
  {
   "cell_type": "code",
   "execution_count": null,
   "metadata": {
    "ExecuteTime": {
     "end_time": "2017-03-10T10:42:40.828678",
     "start_time": "2017-03-10T10:42:40.798326"
    },
    "collapsed": false,
    "extensions": {
     "jupyter_dashboards": {
      "version": 1,
      "views": {
       "grid_default": {},
       "report_default": {
        "hidden": true
       }
      }
     }
    },
    "nbpresent": {
     "id": "90d8633e-11b1-4d70-866d-483e88575b7b"
    },
    "slideshow": {
     "slide_type": "fragment"
    }
   },
   "outputs": [],
   "source": [
    "def make_graph(df, color, data_type):\n",
    "    '''\n",
    "    Makes a list of tuple lists for each node-edge-node segment in the graph\n",
    "    '''\n",
    "    out = []\n",
    "    for i, (k, v) in enumerate(df.groupby(df.columns[-1])):\n",
    "        \n",
    "        v = v.values.tolist()\n",
    "        v = [x[0] for x in v]\n",
    "        v_right = v[1:]\n",
    "        if len(v) == 1:\n",
    "            v_right = v\n",
    "        else:\n",
    "            v_right[-1] = v[0]\n",
    "        out.append([(a, b, {'type': data_type,\n",
    "                            'color': color, \n",
    "                           'd3color': '#%02x%02x%02x' % tuple(c*255 for c in color)}) for a, b in zip(v, v_right)])\n",
    "    out = [item for sublist in out for item in sublist]\n",
    "    return out"
   ]
  },
  {
   "cell_type": "markdown",
   "metadata": {
    "extensions": {
     "jupyter_dashboards": {
      "version": 1,
      "views": {
       "grid_default": {},
       "report_default": {
        "hidden": false
       }
      }
     }
    },
    "slideshow": {
     "slide_type": "subslide"
    }
   },
   "source": [
    "### Add Graphs for Each Type of Connection\n",
    "For each identifying attribute, use `make_graph` to generate the connectivity list and then combine all lists."
   ]
  },
  {
   "cell_type": "code",
   "execution_count": null,
   "metadata": {
    "ExecuteTime": {
     "end_time": "2017-03-10T10:43:23.457998",
     "start_time": "2017-03-10T10:42:40.831802"
    },
    "collapsed": false,
    "extensions": {
     "jupyter_dashboards": {
      "version": 1,
      "views": {
       "grid_default": {},
       "report_default": {
        "hidden": true
       }
      }
     }
    },
    "slideshow": {
     "slide_type": "fragment"
    }
   },
   "outputs": [],
   "source": [
    "out = make_graph(df[df.name!=''][['post_id','name']],[1,0,0],'email')\n",
    "out += make_graph(df[df.number!=''][['post_id','number']],[0,0,1],'number')\n",
    "out += make_graph(df[df.oid!=''][['post_id','oid']],[0,1,0],'oid')"
   ]
  },
  {
   "cell_type": "markdown",
   "metadata": {
    "extensions": {
     "jupyter_dashboards": {
      "version": 1,
      "views": {
       "grid_default": {},
       "report_default": {
        "hidden": false
       }
      }
     }
    },
    "slideshow": {
     "slide_type": "subslide"
    }
   },
   "source": [
    "### Use NetworkX to Find Disjoint SubGraphs\n",
    "Now that we have the mast graph, we can use NetworkX to find all subgraphs and then loop through them to find each distinct entity."
   ]
  },
  {
   "cell_type": "code",
   "execution_count": null,
   "metadata": {
    "ExecuteTime": {
     "end_time": "2017-03-10T10:43:43.432899",
     "start_time": "2017-03-10T10:43:23.460864"
    },
    "collapsed": false,
    "extensions": {
     "jupyter_dashboards": {
      "version": 1,
      "views": {
       "grid_default": {},
       "report_default": {
        "hidden": true
       }
      }
     }
    },
    "nbpresent": {
     "id": "e37d6a48-cde1-4886-acef-e4ab16d3356b"
    },
    "slideshow": {
     "slide_type": "fragment"
    }
   },
   "outputs": [],
   "source": [
    "G = nx.Graph()\n",
    "G.add_edges_from(out)\n",
    "\n",
    "sub_graphs = []\n",
    "for i, x in enumerate(nx.connected_component_subgraphs(G)):\n",
    "    nodes = nx.nodes(x)\n",
    "    sub_graphs.append(list(zip([i] * len(nodes), nodes)))\n",
    "\n",
    "sub_graphs = [item for sublist in sub_graphs for item in sublist]\n",
    "\n"
   ]
  },
  {
   "cell_type": "markdown",
   "metadata": {
    "extensions": {
     "jupyter_dashboards": {
      "version": 1,
      "views": {
       "grid_default": {},
       "report_default": {
        "hidden": false
       }
      }
     }
    },
    "slideshow": {
     "slide_type": "subslide"
    }
   },
   "source": [
    "### Check Entity Data\n",
    "To check the entities we can start by just looking at the number of posts associated with each entity id.  That is, the number of posts in each disjoint subgraph.  "
   ]
  },
  {
   "cell_type": "code",
   "execution_count": null,
   "metadata": {
    "ExecuteTime": {
     "end_time": "2017-03-10T11:24:03.355384",
     "start_time": "2017-03-10T11:24:03.082704"
    },
    "collapsed": false,
    "extensions": {
     "jupyter_dashboards": {
      "version": 1,
      "views": {
       "grid_default": {},
       "report_default": {
        "hidden": true
       }
      }
     }
    },
    "nbpresent": {
     "id": "2641eb1c-ffda-44fd-99e2-27e496f10829"
    },
    "slideshow": {
     "slide_type": "fragment"
    }
   },
   "outputs": [],
   "source": [
    "df_out = pd.DataFrame(sub_graphs,\n",
    "                      columns=['entity_id',\n",
    "                               'post_id'])\n",
    "df_out.groupby('entity_id').count().head(10)"
   ]
  },
  {
   "cell_type": "markdown",
   "metadata": {
    "extensions": {
     "jupyter_dashboards": {
      "version": 1,
      "views": {
       "grid_default": {},
       "report_default": {
        "hidden": false
       }
      }
     }
    },
    "slideshow": {
     "slide_type": "subslide"
    }
   },
   "source": [
    "### Merge With Original Data\n",
    "\n",
    "Finally, we use the entity dataframe to join back in the post data so that we can can see the identity data for each entity."
   ]
  },
  {
   "cell_type": "code",
   "execution_count": null,
   "metadata": {
    "ExecuteTime": {
     "end_time": "2017-03-10T11:34:51.282489",
     "start_time": "2017-03-10T11:34:49.388473"
    },
    "collapsed": false,
    "extensions": {
     "jupyter_dashboards": {
      "version": 1,
      "views": {
       "grid_default": {},
       "report_default": {
        "hidden": true
       }
      }
     }
    },
    "nbpresent": {
     "id": "034440b7-192c-4ddb-ae9c-24b1be8a3e2f"
    },
    "slideshow": {
     "slide_type": "fragment"
    }
   },
   "outputs": [],
   "source": [
    "\n",
    "df_out = df_out.merge(df,on='post_id')\n",
    "df_out.set_index(['entity_id','number','name','oid'],inplace=True)\n",
    "df_out.head(5)"
   ]
  },
  {
   "cell_type": "markdown",
   "metadata": {
    "extensions": {
     "jupyter_dashboards": {
      "version": 1,
      "views": {
       "grid_default": {},
       "report_default": {
        "hidden": false
       }
      }
     }
    },
    "slideshow": {
     "slide_type": "slide"
    }
   },
   "source": [
    "## Check Results\n",
    "To check the results, let's look at the entity we started to manually analyze in the first examples.  If we search this entity table by email address we see two phone numbers attached to the entity including the one we originally experimented with.  That seems reasonable."
   ]
  },
  {
   "cell_type": "code",
   "execution_count": null,
   "metadata": {
    "ExecuteTime": {
     "end_time": "2017-03-10T11:43:09.457997",
     "start_time": "2017-03-10T11:43:09.356441"
    },
    "collapsed": false,
    "extensions": {
     "jupyter_dashboards": {
      "version": 1,
      "views": {
       "grid_default": {},
       "report_default": {
        "hidden": true
       }
      }
     }
    },
    "nbpresent": {
     "id": "e31bd28d-c79b-4ef9-a1d6-5c0390534da9"
    },
    "slideshow": {
     "slide_type": "fragment"
    }
   },
   "outputs": [],
   "source": [
    "df_out.query('name==\"tucenicienta360@gmail.com\"')"
   ]
  },
  {
   "cell_type": "markdown",
   "metadata": {
    "extensions": {
     "jupyter_dashboards": {
      "version": 1,
      "views": {
       "grid_default": {},
       "report_default": {
        "hidden": false
       }
      }
     }
    },
    "slideshow": {
     "slide_type": "subslide"
    }
   },
   "source": [
    "## Check Entity\n",
    "Taking that `entity_id`, we can see all the connected posts.  We can see a variety of phone numbers, emails, and post locations."
   ]
  },
  {
   "cell_type": "code",
   "execution_count": null,
   "metadata": {
    "ExecuteTime": {
     "end_time": "2017-03-10T11:43:45.099270",
     "start_time": "2017-03-10T11:43:44.923179"
    },
    "collapsed": false,
    "extensions": {
     "jupyter_dashboards": {
      "version": 1,
      "views": {
       "grid_default": {},
       "report_default": {
        "hidden": true
       }
      }
     }
    },
    "nbpresent": {
     "id": "987b99ff-bd8a-440b-8d16-99a28f3c1b26"
    },
    "slideshow": {
     "slide_type": "fragment"
    }
   },
   "outputs": [],
   "source": [
    "entity_id = df_out.query('name==\"tucenicienta360@gmail.com\"').index.get_level_values('entity_id')[0]\n",
    "df_out.query('entity_id=={}'.format(entity_id)).head(20)"
   ]
  },
  {
   "cell_type": "markdown",
   "metadata": {},
   "source": [
    "## Plot Network\n",
    "Finally, we can get a sense of the network by plotting a subset of 50 entities. There are several orphan posts that aren't connected to an entity as well as several large entities with many connected posts.  A quick glance at the plot shows that most of the ID information are phone numbers (blue edges), with a few email addresses (red) and poster_ids (green) sprinkled in."
   ]
  },
  {
   "cell_type": "code",
   "execution_count": null,
   "metadata": {
    "ExecuteTime": {
     "end_time": "2017-03-10T11:47:05.427123",
     "start_time": "2017-03-10T11:46:43.665495"
    },
    "collapsed": false
   },
   "outputs": [],
   "source": [
    "G_check = G.subgraph(df_out.loc[560:610].post_id.values)\n",
    "\n",
    "pos = nx.spring_layout(G_check)\n",
    "colors = [G_check[u][v]['color'] for u,v in G_check.edges()]\n",
    "\n",
    "plot_kargs['charge'] = -5\n",
    "plot_kargs['link_distance'] = 5\n",
    "plot_kargs['default_node_radius'] = 2\n",
    "plot_kargs['height'] = 600\n",
    "\n",
    "fc =ForceChart(G_check,**plot_kargs)\n",
    "fc.to_notebook()"
   ]
  },
  {
   "cell_type": "markdown",
   "metadata": {},
   "source": [
    "## NetworkX Plot\n",
    "NetworkX also has a plotting tool that we can use to see the graph.  The block below shows how we use nx to make the same plot."
   ]
  },
  {
   "cell_type": "code",
   "execution_count": null,
   "metadata": {
    "ExecuteTime": {
     "end_time": "2017-03-10T12:23:21.642469",
     "start_time": "2017-03-10T12:23:20.150135"
    },
    "collapsed": false,
    "slideshow": {
     "slide_type": "subslide"
    }
   },
   "outputs": [],
   "source": [
    "rcParams['figure.figsize'] = (7.0, 7.0)\n",
    "nx.draw(G_check,pos,node_color='k',edge_color=colors,width=2,node_size=5)"
   ]
  },
  {
   "cell_type": "markdown",
   "metadata": {
    "collapsed": true,
    "extensions": {
     "jupyter_dashboards": {
      "version": 1,
      "views": {
       "grid_default": {},
       "report_default": {
        "hidden": true
       }
      }
     }
    },
    "slideshow": {
     "slide_type": "slide"
    }
   },
   "source": [
    "## Resources\n",
    "\n",
    "- Talk notebook on <a href=\"https://github.com/gte620v/graph_entity_resolution\">GitHub</a>\n",
    "- Talk slides on <a href=\"https://docs.google.com/presentation/d/1r3SAci6PRdddPec606zLMXRONWDL9xjbQMWy7oDeEVU/pub?start=false&loop=false&delayms=60000\">Google Slides</a>\n",
    "- Anidata 1.x code for this Stop Human Trafficking project is on <a href=\"https://github.com/anidata\">GitHub</a>\n",
    "\n",
    "\n"
   ]
  }
 ],
 "metadata": {
  "anaconda-cloud": {},
  "extensions": {
   "jupyter_dashboards": {
    "activeView": "report_default",
    "version": 1,
    "views": {
     "grid_default": {
      "cellMargin": 10,
      "defaultCellHeight": 20,
      "maxColumns": 12,
      "name": "grid",
      "type": "grid"
     },
     "report_default": {
      "name": "report",
      "type": "report"
     }
    }
   }
  },
  "hide_input": false,
  "kernelspec": {
   "display_name": "Python 3",
   "language": "python",
   "name": "python3"
  },
  "language_info": {
   "codemirror_mode": {
    "name": "ipython",
    "version": 3
   },
   "file_extension": ".py",
   "mimetype": "text/x-python",
   "name": "python",
   "nbconvert_exporter": "python",
   "pygments_lexer": "ipython3",
   "version": "3.6.0"
  },
  "latex_envs": {
   "bibliofile": "biblio.bib",
   "cite_by": "apalike",
   "current_citInitial": 1,
   "eqLabelWithNumbers": true,
   "eqNumInitial": 0
  },
  "nav_menu": {},
  "nbpresent": {
   "slides": {
    "441ed416-3689-47ed-87ca-bbead46dd109": {
     "id": "441ed416-3689-47ed-87ca-bbead46dd109",
     "prev": "d299296d-2575-416b-b0fa-4b98eb7cc2c7",
     "regions": {
      "99492b18-3a5c-4452-9335-99d6e5d4ddaa": {
       "attrs": {
        "height": 1,
        "width": 1,
        "x": 0,
        "y": 0
       },
       "content": {
        "cell": "1e3d5ce2-782f-45ad-a015-07711bdf5ccc",
        "part": "outputs"
       },
       "id": "99492b18-3a5c-4452-9335-99d6e5d4ddaa"
      }
     }
    },
    "753f4e03-5265-4c1c-9c1b-72970e5e00cd": {
     "id": "753f4e03-5265-4c1c-9c1b-72970e5e00cd",
     "layout": "grid",
     "prev": null,
     "regions": {
      "557db40f-41bf-4263-9531-9a4098356414": {
       "attrs": {
        "height": 1,
        "pad": 0.01,
        "treemap:weight": 1,
        "width": 1,
        "x": 0,
        "y": 0
       },
       "content": {
        "cell": "63d78fff-4644-4bc1-802d-8c0e24e1b46c",
        "part": "source"
       },
       "id": "557db40f-41bf-4263-9531-9a4098356414"
      }
     },
     "theme": "9bc32250-8141-44ab-9742-f228afee0285"
    },
    "d299296d-2575-416b-b0fa-4b98eb7cc2c7": {
     "id": "d299296d-2575-416b-b0fa-4b98eb7cc2c7",
     "prev": "e5d7510f-5a55-439f-b3a7-419e0e19497a",
     "regions": {
      "b7d14dcd-1a4f-4927-9100-ea9fec912475": {
       "attrs": {
        "height": 1,
        "width": 1,
        "x": 0,
        "y": 0
       },
       "content": {
        "cell": "90d8633e-11b1-4d70-866d-483e88575b7b",
        "part": "source"
       },
       "id": "b7d14dcd-1a4f-4927-9100-ea9fec912475"
      }
     }
    },
    "d8bcce00-cfd9-4667-9a00-e4d846cb6f68": {
     "id": "d8bcce00-cfd9-4667-9a00-e4d846cb6f68",
     "prev": "441ed416-3689-47ed-87ca-bbead46dd109",
     "regions": {
      "47a9a11d-ae90-4718-b49d-2753c9a2b956": {
       "attrs": {
        "height": 1,
        "width": 1,
        "x": 0,
        "y": 0
       },
       "content": {
        "cell": "1e3d5ce2-782f-45ad-a015-07711bdf5ccc",
        "part": "source"
       },
       "id": "47a9a11d-ae90-4718-b49d-2753c9a2b956"
      }
     }
    },
    "e5d7510f-5a55-439f-b3a7-419e0e19497a": {
     "id": "e5d7510f-5a55-439f-b3a7-419e0e19497a",
     "prev": "f6a65833-7e9a-46ae-a275-bc5c63c2dee4",
     "regions": {
      "a462b285-13c5-4c91-a84a-0f693bf1c449": {
       "attrs": {
        "height": 0.8,
        "width": 0.8,
        "x": 0.1,
        "y": 0.1
       },
       "content": {
        "cell": "c20e12f8-1858-48f8-9d1a-ea2e173b0cf8",
        "part": "whole"
       },
       "id": "a462b285-13c5-4c91-a84a-0f693bf1c449"
      },
      "dc8b0a24-1f1a-4cc7-a752-6f4e1db68bd9": {
       "attrs": {
        "height": 1,
        "width": 1,
        "x": 0,
        "y": 0
       },
       "id": "dc8b0a24-1f1a-4cc7-a752-6f4e1db68bd9"
      }
     }
    },
    "f6a65833-7e9a-46ae-a275-bc5c63c2dee4": {
     "id": "f6a65833-7e9a-46ae-a275-bc5c63c2dee4",
     "prev": "753f4e03-5265-4c1c-9c1b-72970e5e00cd",
     "regions": {
      "473c100d-f087-4a4c-86e6-8292bdf952ee": {
       "attrs": {
        "height": 0.4,
        "width": 0.4,
        "x": 0.1,
        "y": 0.1
       },
       "id": "473c100d-f087-4a4c-86e6-8292bdf952ee"
      },
      "55e50947-9a98-4bd6-be37-10d55abbef4c": {
       "attrs": {
        "height": 0.4,
        "width": 0.4,
        "x": 0.5,
        "y": 0.1
       },
       "id": "55e50947-9a98-4bd6-be37-10d55abbef4c"
      },
      "61563eb1-697d-4275-a7a7-f0e04058cb46": {
       "attrs": {
        "height": 0.4,
        "width": 0.4,
        "x": 0.1,
        "y": 0.5
       },
       "content": {
        "cell": "1e3d5ce2-782f-45ad-a015-07711bdf5ccc",
        "part": "whole"
       },
       "id": "61563eb1-697d-4275-a7a7-f0e04058cb46"
      },
      "6b26b3d4-7315-4049-a6a3-78603b32ea0d": {
       "attrs": {
        "height": 0.4,
        "width": 0.4,
        "x": 0.5,
        "y": 0.5
       },
       "id": "6b26b3d4-7315-4049-a6a3-78603b32ea0d"
      }
     }
    }
   },
   "themes": {
    "default": "9bc32250-8141-44ab-9742-f228afee0285",
    "theme": {
     "9bc32250-8141-44ab-9742-f228afee0285": {
      "id": "9bc32250-8141-44ab-9742-f228afee0285",
      "palette": {
       "19cc588f-0593-49c9-9f4b-e4d7cc113b1c": {
        "id": "19cc588f-0593-49c9-9f4b-e4d7cc113b1c",
        "rgb": [
         252,
         252,
         252
        ]
       },
       "31af15d2-7e15-44c5-ab5e-e04b16a89eff": {
        "id": "31af15d2-7e15-44c5-ab5e-e04b16a89eff",
        "rgb": [
         68,
         68,
         68
        ]
       },
       "50f92c45-a630-455b-aec3-788680ec7410": {
        "id": "50f92c45-a630-455b-aec3-788680ec7410",
        "rgb": [
         155,
         177,
         192
        ]
       },
       "c5cc3653-2ee1-402a-aba2-7caae1da4f6c": {
        "id": "c5cc3653-2ee1-402a-aba2-7caae1da4f6c",
        "rgb": [
         43,
         126,
         184
        ]
       },
       "efa7f048-9acb-414c-8b04-a26811511a21": {
        "id": "efa7f048-9acb-414c-8b04-a26811511a21",
        "rgb": [
         25.118061674008803,
         73.60176211453744,
         107.4819383259912
        ]
       }
      },
      "rules": {
       "blockquote": {
        "color": "50f92c45-a630-455b-aec3-788680ec7410"
       },
       "code": {
        "font-family": "Anonymous Pro"
       },
       "h1": {
        "color": "c5cc3653-2ee1-402a-aba2-7caae1da4f6c",
        "font-family": "Lato",
        "font-size": 8
       },
       "h2": {
        "color": "c5cc3653-2ee1-402a-aba2-7caae1da4f6c",
        "font-family": "Lato",
        "font-size": 6
       },
       "h3": {
        "color": "50f92c45-a630-455b-aec3-788680ec7410",
        "font-family": "Lato",
        "font-size": 5.5
       },
       "h4": {
        "color": "c5cc3653-2ee1-402a-aba2-7caae1da4f6c",
        "font-family": "Lato",
        "font-size": 5
       },
       "h5": {
        "font-family": "Lato"
       },
       "h6": {
        "font-family": "Lato"
       },
       "h7": {
        "font-family": "Lato"
       },
       "pre": {
        "font-family": "Anonymous Pro",
        "font-size": 4
       }
      },
      "text-base": {
       "font-family": "Merriweather",
       "font-size": 4
      }
     }
    }
   }
  },
  "published": "true",
  "shorttitle": "Graph Entity Resolution",
  "toc": {
   "navigate_menu": true,
   "number_sections": true,
   "sideBar": true,
   "threshold": 6,
   "toc_cell": false,
   "toc_section_display": "block",
   "toc_window_display": false
  }
 },
 "nbformat": 4,
 "nbformat_minor": 1
}
