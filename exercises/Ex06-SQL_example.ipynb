{
 "cells": [
  {
   "cell_type": "markdown",
   "metadata": {},
   "source": [
    "# SQL Data munging example\n",
    "\n",
    "In this exercise, we will experiment with data in a sqlite database using pandas data queries.\n",
    "\n",
    "## Setup\n",
    "\n",
    "### Install sqlite\n",
    "\n",
    "```\n",
    "sudo apt-get install sqlite\n",
    "```\n",
    "\n",
    "### Download data\n",
    "\n",
    "```\n",
    "wget http://www.fdic.gov/bank/individual/failed/banklist.csv\n",
    "```\n",
    "\n",
    "### Import into database\n",
    "\n",
    "#### From command line\n",
    "```\n",
    "sqlite3 banks.db\n",
    "```\n",
    "\n",
    "#### Inside SQL terminal\n",
    "\n",
    "```\n",
    ".mode csv\n",
    ".import banklist.csv bank\n",
    ".schema bank\n",
    "select * from bank limit 10;\n",
    "```"
   ]
  },
  {
   "cell_type": "code",
   "execution_count": 16,
   "metadata": {
    "ExecuteTime": {
     "end_time": "2017-12-04T15:24:04.585232Z",
     "start_time": "2017-12-04T15:24:04.578849Z"
    }
   },
   "outputs": [],
   "source": [
    "%matplotlib inline\n",
    "import matplotlib.pyplot as plt\n",
    "import pandas as pd\n",
    "import sqlite3"
   ]
  },
  {
   "cell_type": "code",
   "execution_count": 13,
   "metadata": {
    "ExecuteTime": {
     "end_time": "2017-12-04T15:18:46.902092Z",
     "start_time": "2017-12-04T15:18:46.898960Z"
    },
    "collapsed": true
   },
   "outputs": [],
   "source": [
    "conn = sqlite3.connect(\"data/banks.db\")\n",
    "cur = conn.cursor()"
   ]
  },
  {
   "cell_type": "code",
   "execution_count": 15,
   "metadata": {
    "ExecuteTime": {
     "end_time": "2017-12-04T15:19:01.011417Z",
     "start_time": "2017-12-04T15:19:01.007068Z"
    }
   },
   "outputs": [
    {
     "name": "stdout",
     "output_type": "stream",
     "text": [
      "[('The Farmers and Merchants State Bank of Argonia', 'Argonia', 'KS', '17719', 'Conway Bank', '13-Oct-17', '13-Oct-17'), ('Fayette County Bank', 'Saint Elmo', 'IL', '1802', 'United Fidelity Bank, fsb', '26-May-17', '26-Jul-17'), ('Guaranty Bank, (d/b/a BestBank in Georgia & Michigan) ', 'Milwaukee', 'WI', '30003', 'First-Citizens Bank & Trust Company', '5-May-17', '26-Jul-17'), ('First NBC Bank', 'New Orleans', 'LA', '58302', 'Whitney Bank', '28-Apr-17', '26-Jul-17'), ('Proficio Bank', 'Cottonwood Heights', 'UT', '35495', 'Cache Valley Bank', '3-Mar-17', '18-May-17'), ('Seaway Bank and Trust Company', 'Chicago', 'IL', '19328', 'State Bank of Texas', '27-Jan-17', '18-May-17'), ('Harvest Community Bank', 'Pennsville', 'NJ', '34951', 'First-Citizens Bank & Trust Company', '13-Jan-17', '18-May-17'), ('Allied Bank', 'Mulberry', 'AR', '91', \"Today's Bank\", '23-Sep-16', '25-Sep-17'), ('The Woodbury Banking Company', 'Woodbury', 'GA', '11297', 'United Bank', '19-Aug-16', '1-Jun-17'), ('First CornerStone Bank', 'King of Prussia', 'PA', '35312', 'First-Citizens Bank & Trust Company', '6-May-16', '6-Sep-16')]\n"
     ]
    }
   ],
   "source": [
    "results = cur.execute('select * from bank limit 10;').fetchall()\n",
    "print(results)"
   ]
  },
  {
   "cell_type": "code",
   "execution_count": 17,
   "metadata": {
    "ExecuteTime": {
     "end_time": "2017-12-04T15:24:43.011995Z",
     "start_time": "2017-12-04T15:24:42.875204Z"
    }
   },
   "outputs": [
    {
     "data": {
      "text/html": [
       "<div>\n",
       "<style>\n",
       "    .dataframe thead tr:only-child th {\n",
       "        text-align: right;\n",
       "    }\n",
       "\n",
       "    .dataframe thead th {\n",
       "        text-align: left;\n",
       "    }\n",
       "\n",
       "    .dataframe tbody tr th {\n",
       "        vertical-align: top;\n",
       "    }\n",
       "</style>\n",
       "<table border=\"1\" class=\"dataframe\">\n",
       "  <thead>\n",
       "    <tr style=\"text-align: right;\">\n",
       "      <th></th>\n",
       "      <th>Bank Name</th>\n",
       "      <th>City</th>\n",
       "      <th>ST</th>\n",
       "      <th>CERT</th>\n",
       "      <th>Acquiring Institution</th>\n",
       "      <th>Closing Date</th>\n",
       "      <th>Updated Date</th>\n",
       "    </tr>\n",
       "  </thead>\n",
       "  <tbody>\n",
       "    <tr>\n",
       "      <th>0</th>\n",
       "      <td>The Farmers and Merchants State Bank of Argonia</td>\n",
       "      <td>Argonia</td>\n",
       "      <td>KS</td>\n",
       "      <td>17719</td>\n",
       "      <td>Conway Bank</td>\n",
       "      <td>13-Oct-17</td>\n",
       "      <td>13-Oct-17</td>\n",
       "    </tr>\n",
       "    <tr>\n",
       "      <th>1</th>\n",
       "      <td>Fayette County Bank</td>\n",
       "      <td>Saint Elmo</td>\n",
       "      <td>IL</td>\n",
       "      <td>1802</td>\n",
       "      <td>United Fidelity Bank, fsb</td>\n",
       "      <td>26-May-17</td>\n",
       "      <td>26-Jul-17</td>\n",
       "    </tr>\n",
       "    <tr>\n",
       "      <th>2</th>\n",
       "      <td>Guaranty Bank, (d/b/a BestBank in Georgia &amp; Mi...</td>\n",
       "      <td>Milwaukee</td>\n",
       "      <td>WI</td>\n",
       "      <td>30003</td>\n",
       "      <td>First-Citizens Bank &amp; Trust Company</td>\n",
       "      <td>5-May-17</td>\n",
       "      <td>26-Jul-17</td>\n",
       "    </tr>\n",
       "    <tr>\n",
       "      <th>3</th>\n",
       "      <td>First NBC Bank</td>\n",
       "      <td>New Orleans</td>\n",
       "      <td>LA</td>\n",
       "      <td>58302</td>\n",
       "      <td>Whitney Bank</td>\n",
       "      <td>28-Apr-17</td>\n",
       "      <td>26-Jul-17</td>\n",
       "    </tr>\n",
       "    <tr>\n",
       "      <th>4</th>\n",
       "      <td>Proficio Bank</td>\n",
       "      <td>Cottonwood Heights</td>\n",
       "      <td>UT</td>\n",
       "      <td>35495</td>\n",
       "      <td>Cache Valley Bank</td>\n",
       "      <td>3-Mar-17</td>\n",
       "      <td>18-May-17</td>\n",
       "    </tr>\n",
       "    <tr>\n",
       "      <th>5</th>\n",
       "      <td>Seaway Bank and Trust Company</td>\n",
       "      <td>Chicago</td>\n",
       "      <td>IL</td>\n",
       "      <td>19328</td>\n",
       "      <td>State Bank of Texas</td>\n",
       "      <td>27-Jan-17</td>\n",
       "      <td>18-May-17</td>\n",
       "    </tr>\n",
       "    <tr>\n",
       "      <th>6</th>\n",
       "      <td>Harvest Community Bank</td>\n",
       "      <td>Pennsville</td>\n",
       "      <td>NJ</td>\n",
       "      <td>34951</td>\n",
       "      <td>First-Citizens Bank &amp; Trust Company</td>\n",
       "      <td>13-Jan-17</td>\n",
       "      <td>18-May-17</td>\n",
       "    </tr>\n",
       "    <tr>\n",
       "      <th>7</th>\n",
       "      <td>Allied Bank</td>\n",
       "      <td>Mulberry</td>\n",
       "      <td>AR</td>\n",
       "      <td>91</td>\n",
       "      <td>Today's Bank</td>\n",
       "      <td>23-Sep-16</td>\n",
       "      <td>25-Sep-17</td>\n",
       "    </tr>\n",
       "    <tr>\n",
       "      <th>8</th>\n",
       "      <td>The Woodbury Banking Company</td>\n",
       "      <td>Woodbury</td>\n",
       "      <td>GA</td>\n",
       "      <td>11297</td>\n",
       "      <td>United Bank</td>\n",
       "      <td>19-Aug-16</td>\n",
       "      <td>1-Jun-17</td>\n",
       "    </tr>\n",
       "    <tr>\n",
       "      <th>9</th>\n",
       "      <td>First CornerStone Bank</td>\n",
       "      <td>King of Prussia</td>\n",
       "      <td>PA</td>\n",
       "      <td>35312</td>\n",
       "      <td>First-Citizens Bank &amp; Trust Company</td>\n",
       "      <td>6-May-16</td>\n",
       "      <td>6-Sep-16</td>\n",
       "    </tr>\n",
       "  </tbody>\n",
       "</table>\n",
       "</div>"
      ],
      "text/plain": [
       "                                           Bank Name                City  ST  \\\n",
       "0    The Farmers and Merchants State Bank of Argonia             Argonia  KS   \n",
       "1                                Fayette County Bank          Saint Elmo  IL   \n",
       "2  Guaranty Bank, (d/b/a BestBank in Georgia & Mi...           Milwaukee  WI   \n",
       "3                                     First NBC Bank         New Orleans  LA   \n",
       "4                                      Proficio Bank  Cottonwood Heights  UT   \n",
       "5                      Seaway Bank and Trust Company             Chicago  IL   \n",
       "6                             Harvest Community Bank          Pennsville  NJ   \n",
       "7                                        Allied Bank            Mulberry  AR   \n",
       "8                       The Woodbury Banking Company            Woodbury  GA   \n",
       "9                             First CornerStone Bank     King of Prussia  PA   \n",
       "\n",
       "    CERT                Acquiring Institution Closing Date Updated Date  \n",
       "0  17719                          Conway Bank    13-Oct-17    13-Oct-17  \n",
       "1   1802            United Fidelity Bank, fsb    26-May-17    26-Jul-17  \n",
       "2  30003  First-Citizens Bank & Trust Company     5-May-17    26-Jul-17  \n",
       "3  58302                         Whitney Bank    28-Apr-17    26-Jul-17  \n",
       "4  35495                    Cache Valley Bank     3-Mar-17    18-May-17  \n",
       "5  19328                  State Bank of Texas    27-Jan-17    18-May-17  \n",
       "6  34951  First-Citizens Bank & Trust Company    13-Jan-17    18-May-17  \n",
       "7     91                         Today's Bank    23-Sep-16    25-Sep-17  \n",
       "8  11297                          United Bank    19-Aug-16     1-Jun-17  \n",
       "9  35312  First-Citizens Bank & Trust Company     6-May-16     6-Sep-16  "
      ]
     },
     "execution_count": 17,
     "metadata": {},
     "output_type": "execute_result"
    }
   ],
   "source": [
    "pd.read_sql_query(\"select * from bank limit 10;\", conn)"
   ]
  },
  {
   "cell_type": "code",
   "execution_count": null,
   "metadata": {
    "collapsed": true
   },
   "outputs": [],
   "source": []
  }
 ],
 "metadata": {
  "kernelspec": {
   "display_name": "Python 3",
   "language": "python",
   "name": "python3"
  },
  "language_info": {
   "codemirror_mode": {
    "name": "ipython",
    "version": 3
   },
   "file_extension": ".py",
   "mimetype": "text/x-python",
   "name": "python",
   "nbconvert_exporter": "python",
   "pygments_lexer": "ipython3",
   "version": "3.6.0"
  },
  "latex_envs": {
   "LaTeX_envs_menu_present": true,
   "autocomplete": true,
   "bibliofile": "biblio.bib",
   "cite_by": "apalike",
   "current_citInitial": 1,
   "eqLabelWithNumbers": true,
   "eqNumInitial": 1,
   "hotkeys": {
    "equation": "Ctrl-E",
    "itemize": "Ctrl-I"
   },
   "labels_anchors": false,
   "latex_user_defs": false,
   "report_style_numbering": false,
   "user_envs_cfg": false
  }
 },
 "nbformat": 4,
 "nbformat_minor": 2
}
